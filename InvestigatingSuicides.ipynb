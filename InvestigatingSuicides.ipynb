{
 "cells": [
  {
   "cell_type": "markdown",
   "metadata": {},
   "source": [
    "In this notebook, we will investigate the factors that influence suicide rate. \n",
    "For example, what effect does age group and sex have on suicide rate\n",
    "Which countries have higher suicide rate and which years were worst for suicide"
   ]
  },
  {
   "cell_type": "code",
   "execution_count": 3,
   "metadata": {
    "scrolled": true
   },
   "outputs": [
    {
     "name": "stdout",
     "output_type": "stream",
     "text": [
      "   country  year     sex          age  suicides_no  population\n",
      "0  Albania  1985  female  15-24 years          NaN    277900.0\n",
      "1  Albania  1985  female  25-34 years          NaN    246800.0\n",
      "2  Albania  1985  female  35-54 years          NaN    267500.0\n",
      "3  Albania  1985  female   5-14 years          NaN    298300.0\n",
      "4  Albania  1985  female  55-74 years          NaN    138700.0\n",
      "(43776, 6)\n",
      "<class 'pandas.core.frame.DataFrame'>\n",
      "RangeIndex: 43776 entries, 0 to 43775\n",
      "Data columns (total 6 columns):\n",
      " #   Column       Non-Null Count  Dtype  \n",
      "---  ------       --------------  -----  \n",
      " 0   country      43776 non-null  object \n",
      " 1   year         43776 non-null  int64  \n",
      " 2   sex          43776 non-null  object \n",
      " 3   age          43776 non-null  object \n",
      " 4   suicides_no  41520 non-null  float64\n",
      " 5   population   38316 non-null  float64\n",
      "dtypes: float64(2), int64(1), object(3)\n",
      "memory usage: 2.0+ MB\n",
      "None\n",
      "               year   suicides_no    population\n",
      "count  43776.000000  41520.000000  3.831600e+04\n",
      "mean    1998.502467    193.315390  1.664091e+06\n",
      "std       10.338711    800.589926  3.647231e+06\n",
      "min     1979.000000      0.000000  2.590000e+02\n",
      "25%     1990.000000      1.000000  8.511275e+04\n",
      "50%     1999.000000     14.000000  3.806550e+05\n",
      "75%     2007.000000     91.000000  1.305698e+06\n",
      "max     2016.000000  22338.000000  4.380521e+07\n"
     ]
    }
   ],
   "source": [
    "import pandas as pd\n",
    "suicides = pd.read_csv('who_suicide_statistics.csv')\n",
    "print(suicides.head()) #Columns are country, year, sex, age, suicides_no and population\n",
    "print(suicides.shape) #43776 rows and 6 columns\n",
    "print(suicides.info()) #2256 missing values in suicides_no and 5460 missing values in population\n",
    "print(suicides.describe()) #Data is from 1979-2016"
   ]
  },
  {
   "cell_type": "code",
   "execution_count": 4,
   "metadata": {},
   "outputs": [
    {
     "name": "stdout",
     "output_type": "stream",
     "text": [
      "country           0\n",
      "year              0\n",
      "sex               0\n",
      "age               0\n",
      "suicides_no    2256\n",
      "population     5460\n",
      "dtype: int64\n"
     ]
    }
   ],
   "source": [
    "#Let's investigate how many NaNs are in this dataset. \n",
    "NaN = suicides.isna().sum()\n",
    "print(NaN) #2256 NaN values in suicides_no and 5460 NaN values in population. "
   ]
  },
  {
   "cell_type": "code",
   "execution_count": 39,
   "metadata": {},
   "outputs": [
    {
     "name": "stdout",
     "output_type": "stream",
     "text": [
      "        country  year     sex          age  suicides_no  population\n",
      "0       Albania  1985  female  15-24 years          NaN    277900.0\n",
      "1       Albania  1985  female  25-34 years          NaN    246800.0\n",
      "2       Albania  1985  female  35-54 years          NaN    267500.0\n",
      "3       Albania  1985  female   5-14 years          NaN    298300.0\n",
      "4       Albania  1985  female  55-74 years          NaN    138700.0\n",
      "...         ...   ...     ...          ...          ...         ...\n",
      "43771  Zimbabwe  1990    male  25-34 years        150.0         NaN\n",
      "43772  Zimbabwe  1990    male  35-54 years        132.0         NaN\n",
      "43773  Zimbabwe  1990    male   5-14 years          6.0         NaN\n",
      "43774  Zimbabwe  1990    male  55-74 years         74.0         NaN\n",
      "43775  Zimbabwe  1990    male    75+ years         13.0         NaN\n",
      "\n",
      "[7716 rows x 6 columns]\n",
      "                          year  sex  age  suicides_no  population\n",
      "country                                                          \n",
      "Lithuania                   12   12   12            0          12\n",
      "Guadeloupe                  12   12   12            0          12\n",
      "Iraq                        12   12   12           12           0\n",
      "Israel                      12   12   12            0          12\n",
      "Kazakhstan                  12   12   12            0          12\n",
      "...                        ...  ...  ...          ...         ...\n",
      "Turks and Caicos Islands   360  360  360          360           0\n",
      "Peru                       360  360  360          360           0\n",
      "Dominica                   372  372  372          372           0\n",
      "Dominican Republic         396  396  396          396           0\n",
      "Bermuda                    408  408  408          384          24\n",
      "\n",
      "[82 rows x 5 columns]\n",
      "      country  sex  age  suicides_no  population\n",
      "year                                            \n",
      "1979      240  240  240           12         228\n",
      "1980      204  204  204           60         144\n",
      "1981      240  240  240           84         156\n",
      "1982      204  204  204           48         156\n",
      "1983      348  348  348           72         276\n",
      "1984      216  216  216           84         132\n",
      "1985      228  228  228           96         132\n",
      "1986      240  240  240          132         108\n",
      "1987      204  204  204          144          60\n",
      "1988      228  228  228          156          72\n",
      "1989      204  204  204          156          48\n",
      "1990      228  228  228          168          60\n",
      "1991      216  216  216          144          72\n",
      "1992      180  180  180          144          36\n",
      "1993      168  168  168          132          36\n",
      "1994      180  180  180          144          36\n",
      "1995      168  168  168          144          24\n",
      "1996      156  156  156          144          12\n",
      "1997      180  180  180          168          12\n",
      "1998      168  168  168          156          12\n",
      "1999      168  168  168          168           0\n",
      "2000      204  204  204          204           0\n",
      "2001      216  216  216          216           0\n",
      "2002      252  252  252          228          24\n",
      "2003      228  228  228          204          24\n",
      "2004      228  228  228          192          36\n",
      "2005      228  228  228          168          60\n",
      "2006      192  192  192          168          24\n",
      "2007      144  144  144          144           0\n",
      "2008      240  240  240          228          12\n",
      "2009      252  252  252          252           0\n",
      "2010      204  204  204          192          12\n",
      "2011      192  192  192          144          48\n",
      "2012      204  204  204          156          48\n",
      "2013      192  192  192          156          36\n",
      "2014      168  168  168          120          48\n",
      "2015      120  120  120           84          36\n",
      "2016       84   84   84           48          36\n"
     ]
    }
   ],
   "source": [
    "#Let's investigate these NaN values to see if certain groups of people are more likely to be NaN.\n",
    "NaN_suicides = suicides[suicides.isna().any(axis=1)]\n",
    "print(NaN_suicides)\n",
    "NaN_suicides_country = NaN_suicides.groupby(by='country').count().sort_values(by='year')\n",
    "print(NaN_suicides_country)\n",
    "NaN_suicides_year = NaN_suicides.groupby(by='year').count()\n",
    "print(NaN_suicides_year)"
   ]
  },
  {
   "cell_type": "code",
   "execution_count": 7,
   "metadata": {},
   "outputs": [
    {
     "name": "stdout",
     "output_type": "stream",
     "text": [
      "82\n"
     ]
    }
   ],
   "source": [
    "#Which countries have missing data and how many?\n",
    "countrieswithNaN = NaNsuicides['country'].unique() \n",
    "print(countrieswithNaN.shape[0]) #82 countries are missing some values. "
   ]
  },
  {
   "cell_type": "code",
   "execution_count": 8,
   "metadata": {},
   "outputs": [
    {
     "name": "stdout",
     "output_type": "stream",
     "text": [
      "141\n"
     ]
    }
   ],
   "source": [
    "#How many unique countries are in this dataset?\n",
    "listofcountries = suicides['country'].unique()\n",
    "print(listofcountries.shape[0]) #141 countries are represented in dataset which means 59 countries have no missing data. "
   ]
  },
  {
   "cell_type": "code",
   "execution_count": 9,
   "metadata": {},
   "outputs": [
    {
     "name": "stdout",
     "output_type": "stream",
     "text": [
      "38\n",
      "38\n"
     ]
    }
   ],
   "source": [
    "#Which years contain NaN values?\n",
    "yearswithNaN = NaNsuicides['year'].unique()\n",
    "print(yearswithNaN.shape[0]) #38\n",
    "\n",
    "#How many years are represented in total?\n",
    "uniqueyears = suicides['year'].unique()\n",
    "print(uniqueyears.shape[0]) #38\n",
    "\n",
    "#Therefore, every single year has one entry where there is a missing value in one of the rows."
   ]
  },
  {
   "cell_type": "code",
   "execution_count": 10,
   "metadata": {},
   "outputs": [
    {
     "name": "stdout",
     "output_type": "stream",
     "text": [
      "    country  year     sex          age  suicides_no  population\n",
      "24  Albania  1987  female  15-24 years         14.0    289700.0\n",
      "25  Albania  1987  female  25-34 years          4.0    257200.0\n",
      "26  Albania  1987  female  35-54 years          6.0    278800.0\n",
      "27  Albania  1987  female   5-14 years          0.0    311000.0\n",
      "28  Albania  1987  female  55-74 years          0.0    144600.0\n",
      "(36060, 6)\n",
      "<class 'pandas.core.frame.DataFrame'>\n",
      "Int64Index: 36060 entries, 24 to 43763\n",
      "Data columns (total 6 columns):\n",
      " #   Column       Non-Null Count  Dtype  \n",
      "---  ------       --------------  -----  \n",
      " 0   country      36060 non-null  object \n",
      " 1   year         36060 non-null  int64  \n",
      " 2   sex          36060 non-null  object \n",
      " 3   age          36060 non-null  object \n",
      " 4   suicides_no  36060 non-null  float64\n",
      " 5   population   36060 non-null  float64\n",
      "dtypes: float64(2), int64(1), object(3)\n",
      "memory usage: 1.9+ MB\n",
      "None\n"
     ]
    }
   ],
   "source": [
    "#We will now drop all rows where there is a missing value and investigate the data. \n",
    "suicidesnoNaN = suicides.dropna(axis=0).copy()\n",
    "print(suicidesnoNaN.head())\n",
    "print(suicidesnoNaN.shape) #36060 rows and 6 columns\n",
    "print(suicidesnoNaN.info()) #No more null values!"
   ]
  },
  {
   "cell_type": "code",
   "execution_count": 11,
   "metadata": {},
   "outputs": [
    {
     "name": "stdout",
     "output_type": "stream",
     "text": [
      "    country  year     sex          age  suicides_no  population  suicide_rate\n",
      "24  Albania  1987  female  15-24 years         14.0    289700.0      0.000048\n",
      "25  Albania  1987  female  25-34 years          4.0    257200.0      0.000016\n",
      "26  Albania  1987  female  35-54 years          6.0    278800.0      0.000022\n",
      "27  Albania  1987  female   5-14 years          0.0    311000.0      0.000000\n",
      "28  Albania  1987  female  55-74 years          0.0    144600.0      0.000000\n"
     ]
    }
   ],
   "source": [
    "#We want suicide rate within each group.\n",
    "suicidesnoNaN.loc[:,'suicide_rate'] = suicidesnoNaN.loc[:,'suicides_no']/suicidesnoNaN.loc[:,'population']\n",
    "print(suicidesnoNaN.head())"
   ]
  },
  {
   "cell_type": "code",
   "execution_count": 12,
   "metadata": {},
   "outputs": [
    {
     "name": "stdout",
     "output_type": "stream",
     "text": [
      "                    suicides_no    population  suicide_rate  \\\n",
      "age         sex                                               \n",
      "5-14 years  female      20152.0  5.112920e+09      0.000004   \n",
      "            male        42168.0  5.338096e+09      0.000008   \n",
      "15-24 years female     218309.0  5.202692e+09      0.000042   \n",
      "            male       757391.0  5.385159e+09      0.000141   \n",
      "25-34 years female     256427.0  5.061718e+09      0.000051   \n",
      "            male      1104353.0  5.119077e+09      0.000216   \n",
      "35-54 years female     607420.0  8.505646e+09      0.000071   \n",
      "            male      2280320.0  8.317222e+09      0.000274   \n",
      "55-74 years female     528359.0  5.560568e+09      0.000095   \n",
      "            male      1426791.0  4.689599e+09      0.000304   \n",
      "75+ years   female     263627.0  1.928897e+09      0.000137   \n",
      "            male       493150.0  1.080252e+09      0.000457   \n",
      "\n",
      "                    suicides_per_million  \n",
      "age         sex                           \n",
      "5-14 years  female              3.941388  \n",
      "            male                7.899445  \n",
      "15-24 years female             41.960779  \n",
      "            male              140.644129  \n",
      "25-34 years female             50.660072  \n",
      "            male              215.732840  \n",
      "35-54 years female             71.413743  \n",
      "            male              274.168459  \n",
      "55-74 years female             95.018890  \n",
      "            male              304.245816  \n",
      "75+ years   female            136.672414  \n",
      "            male              456.513965  \n"
     ]
    }
   ],
   "source": [
    "#We want suicide comparison between sex and age\n",
    "import numpy as np\n",
    "suicidesgroupsexage = suicidesnoNaN.groupby(by=['age', 'sex'])[['suicides_no', 'population']].sum()\n",
    "suicidesgroupsexage['suicide_rate'] = suicidesgroupsexage['suicides_no']/suicidesgroupsexage['population']\n",
    "suicidesgroupsexage['suicides_per_million'] = suicidesgroupsexage['suicide_rate']*1000000\n",
    "newindexorder = [ ( '5-14 years', 'female'),\n",
    "            ( '5-14 years',   'male'),\n",
    "            ('15-24 years', 'female'),\n",
    "            ('15-24 years',   'male'),\n",
    "            ('25-34 years', 'female'),\n",
    "            ('25-34 years',   'male'),\n",
    "            ('35-54 years', 'female'),\n",
    "            ('35-54 years',   'male'),\n",
    "            ('55-74 years', 'female'),\n",
    "            ('55-74 years',   'male'),\n",
    "            (  '75+ years', 'female'),\n",
    "            (  '75+ years',   'male')]\n",
    "suicidesgroupsexage=suicidesgroupsexage.reindex(newindexorder)\n",
    "print(suicidesgroupsexage)\n",
    "\n",
    "#Looks like far more men commit suicide than females in each age group. \n",
    "#Also, the older you get, the more likely you are to commit suicide.  "
   ]
  },
  {
   "cell_type": "code",
   "execution_count": 27,
   "metadata": {},
   "outputs": [
    {
     "name": "stdout",
     "output_type": "stream",
     "text": [
      "            age     sex  suicides_per_million\n",
      "0    5-14 years  female              3.941388\n",
      "1    5-14 years    male              7.899445\n",
      "2   15-24 years  female             41.960779\n",
      "3   15-24 years    male            140.644129\n",
      "4   25-34 years  female             50.660072\n",
      "5   25-34 years    male            215.732840\n",
      "6   35-54 years  female             71.413743\n",
      "7   35-54 years    male            274.168459\n",
      "8   55-74 years  female             95.018890\n",
      "9   55-74 years    male            304.245816\n",
      "10    75+ years  female            136.672414\n",
      "11    75+ years    male            456.513965\n"
     ]
    },
    {
     "data": {
      "image/png": "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\n",
      "text/plain": [
       "<Figure size 790.5x360 with 1 Axes>"
      ]
     },
     "metadata": {
      "needs_background": "light"
     },
     "output_type": "display_data"
    }
   ],
   "source": [
    "#Let's plot the result here. \n",
    "import matplotlib.pyplot as plt\n",
    "import seaborn as sns\n",
    "\n",
    "age_sex_suicides_per_mil = suicidesgroupsexage[['suicides_per_million']]\n",
    "age_sex_suicides_per_mil.reset_index(inplace=True)\n",
    "print(age_sex_suicides_per_mil)\n",
    "\n",
    "male_suicides_age_group = age_sex_suicides_per_mil[age_sex_suicides_per_mil['sex']=='male']\n",
    "female_suicides_age_group = age_sex_suicides_per_mil[age_sex_suicides_per_mil['sex']=='female']\n",
    "\n",
    "sns.catplot(x='age', y='suicides_per_million', data=age_sex_suicides_per_mil, hue='sex',\n",
    "            palette=['pink', 'blue'], ci=None, kind=\"bar\", aspect=2)\n",
    "\n",
    "plt.xlabel(\"Age and Gender Group\")\n",
    "plt.ylabel(\"Suicides per Million\")\n",
    "plt.title(\"Suicide comparisons between different age and gender groups\")\n",
    "plt.show()"
   ]
  },
  {
   "cell_type": "code",
   "execution_count": 65,
   "metadata": {},
   "outputs": [
    {
     "data": {
      "image/png": "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\n",
      "text/plain": [
       "<Figure size 790.5x720 with 2 Axes>"
      ]
     },
     "metadata": {
      "needs_background": "light"
     },
     "output_type": "display_data"
    }
   ],
   "source": [
    "#Let's investigate the suicide rate each year to see whether there is a trend\n",
    "suicides_by_year = suicidesnoNaN.groupby(by=['year', 'sex'])[['suicides_no', 'population']].sum()\n",
    "suicides_by_year['suicide_rate'] = suicides_by_year['suicides_no']/suicides_by_year['population']\n",
    "suicides_by_year['suicides_per_million'] = suicides_by_year['suicide_rate']*1000000\n",
    "#print(suicides_by_year)\n",
    "\n",
    "suicides_by_year.reset_index(inplace=True)\n",
    "#print(suicides_by_year)\n",
    "\n",
    "g=sns.relplot(x='year', y='suicides_per_million', hue='sex', data=suicides_by_year,\n",
    "             kind='line', palette={\"female\": \"pink\", \"male\": \"blue\"}, aspect=2, row=\"sex\",\n",
    "           facet_kws={'sharey': False, 'sharex': True})\n",
    "\n",
    "plt.xticks(rotation='vertical')\n",
    "g.set_axis_labels(\"Year\")\n",
    "#g.fig.suptitle(\"Rate of suicide over time\")\n",
    "plt.show()\n",
    "#As we can see, the suicide rate of females has constantly decreased over the years starting from pre 1980s \n",
    "#all the way to 2016. \n",
    "\n",
    "#It is harder to see a pattern with the male suicide rate, however, it seems like it gradually\n",
    "#increased throughout the 1980s and peaked in the 1990s. It has decreased in the 21st century. "
   ]
  },
 
 ],
 "metadata": {
  "kernelspec": {
   "display_name": "Python 3",
   "language": "python",
   "name": "python3"
  },
  "language_info": {
   "codemirror_mode": {
    "name": "ipython",
    "version": 3
   },
   "file_extension": ".py",
   "mimetype": "text/x-python",
   "name": "python",
   "nbconvert_exporter": "python",
   "pygments_lexer": "ipython3",
   "version": "3.7.9"
  }
 },
 "nbformat": 4,
 "nbformat_minor": 4
}
